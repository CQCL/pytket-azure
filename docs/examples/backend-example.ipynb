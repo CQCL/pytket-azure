{
 "cells": [
  {
   "cell_type": "markdown",
   "id": "f268e562-82fd-4197-b77f-4cb66cd49716",
   "metadata": {},
   "source": [
    "# pytket-azure backends\n",
    "\n",
    "This notebook shows how to use the pytket-azure extension to submit pytket circuits to quantinuum devices using the azure credentials.\n",
    "\n",
    "First you need to install the extension. The best way to do this is ```pip install pytket-azure```\n",
    "This also installs pytket if not installed already.\n",
    "\n"
   ]
  },
  {
   "cell_type": "markdown",
   "id": "f66ab4cd-16dc-4809-9cae-9ffa4b0141f1",
   "metadata": {},
   "source": [
    "First import the Backend, it offers the needed functionsality to login, send circuits and get results."
   ]
  },
  {
   "cell_type": "code",
   "execution_count": 1,
   "id": "16f85bb6-e665-4fc0-a908-3eaf5f819591",
   "metadata": {},
   "outputs": [],
   "source": [
    "from pytket.extensions.azure import AzureBackend"
   ]
  },
  {
   "cell_type": "markdown",
   "id": "f9af7004-a97e-48d4-bcab-ae5cf98048e1",
   "metadata": {},
   "source": [
    "The next steps is to select the device you want to use. You can find all supported devices [here](https://learn.microsoft.com/en-us/azure/quantum/provider-quantinuum?tabs=tabid-mcmr-with-q-provider%2Ctabid-arbitrary-angle-zz-gates-with-q-provider%2Ctabid-su4-with-q-provider%2Ctabid-emulator-noise-parameters-with-q-provider%2Ctabid-tket-compilation-with-q-provider)\n",
    "There are three groups: Syntax Checker, Emulator and devices. "
   ]
  },
  {
   "cell_type": "code",
   "execution_count": 2,
   "id": "33629c9f-4b2e-4b94-b2d4-ebe0d4ac0424",
   "metadata": {},
   "outputs": [
    {
     "name": "stdout",
     "output_type": "stream",
     "text": [
      "True\n"
     ]
    }
   ],
   "source": [
    "backend_sc = AzureBackend(\"quantinuum.sim.h1-1sc\")\n",
    "print(backend_sc.is_available())"
   ]
  },
  {
   "cell_type": "markdown",
   "id": "446ce811-12c1-4f7b-a88f-fb3110c34573",
   "metadata": {},
   "source": [
    "You can use the backend to compile your pytket circuit to the right gateset and send it to the device."
   ]
  },
  {
   "cell_type": "code",
   "execution_count": 4,
   "id": "55f9870c-9cad-4df2-887f-edddf0b43d05",
   "metadata": {},
   "outputs": [],
   "source": [
    "from pytket import Circuit\n",
    "\n",
    "circ = Circuit(2, 2)\n",
    "circ.H(0)\n",
    "circ.CX(0,1)\n",
    "circ.Measure(0, 0)\n",
    "circ.Measure(1, 1)\n",
    "compiled_circuit = backend_sc.get_compiled_circuit(circ, 3)\n"
   ]
  },
  {
   "cell_type": "code",
   "execution_count": 5,
   "id": "7d5b65ea-13a7-48d5-92bd-6c6e0c190b85",
   "metadata": {
    "scrolled": true
   },
   "outputs": [
    {
     "data": {
      "text/html": [
       "\n",
       "\n",
       "\n",
       "\n",
       "\n",
       "\n",
       "<div style=\"resize: vertical; overflow: auto; height: 400px; display: block\">\n",
       "    <iframe srcdoc=\"\n",
       "&lt;!DOCTYPE html&gt;\n",
       "&lt;html lang=&#34;en&#34;&gt;\n",
       "&lt;head&gt;\n",
       "    &lt;meta charset=&#34;UTF-8&#34;&gt;\n",
       "    &lt;!-- Download Vue 3--&gt;\n",
       "&lt;script type=&#34;application/javascript&#34; src=&#34;https://cdn.jsdelivr.net/npm/vue@3&#34;&gt;&lt;/script&gt;\n",
       "&lt;!-- Download Circuit Renderer with styles --&gt;\n",
       "&lt;script type=&#34;application/javascript&#34; src=&#34;https://unpkg.com/pytket-circuit-renderer@0.10/dist/pytket-circuit-renderer.umd.js&#34;&gt;&lt;/script&gt;\n",
       "&lt;link rel=&#34;stylesheet&#34; href=&#34;https://unpkg.com/pytket-circuit-renderer@0.10/dist/pytket-circuit-renderer.css&#34;&gt;\n",
       "&lt;/head&gt;\n",
       "&lt;body&gt;\n",
       "\n",
       "\n",
       "    &lt;div id=&#34;circuit-display-vue-container-15e1031f-3889-4515-9b5f-6682126a1420&#34; class=&#34;pytket-circuit-display-container&#34;&gt;\n",
       "        &lt;div style=&#34;display: none&#34;&gt;\n",
       "            &lt;div id=&#34;circuit-json-to-display&#34;&gt;{&#34;bits&#34;: [[&#34;c&#34;, [0]], [&#34;c&#34;, [1]]], &#34;commands&#34;: [{&#34;args&#34;: [[&#34;q&#34;, [0]]], &#34;op&#34;: {&#34;params&#34;: [&#34;-0.5&#34;], &#34;type&#34;: &#34;Rz&#34;}}, {&#34;args&#34;: [[&#34;q&#34;, [1]]], &#34;op&#34;: {&#34;params&#34;: [&#34;1/2&#34;], &#34;type&#34;: &#34;Rz&#34;}}, {&#34;args&#34;: [[&#34;q&#34;, [0]]], &#34;op&#34;: {&#34;params&#34;: [&#34;1.5&#34;], &#34;type&#34;: &#34;Rx&#34;}}, {&#34;args&#34;: [[&#34;q&#34;, [1]]], &#34;op&#34;: {&#34;params&#34;: [&#34;1.5&#34;], &#34;type&#34;: &#34;Rx&#34;}}, {&#34;args&#34;: [[&#34;q&#34;, [0]]], &#34;op&#34;: {&#34;params&#34;: [&#34;0.5&#34;], &#34;type&#34;: &#34;Rz&#34;}}, {&#34;args&#34;: [[&#34;q&#34;, [1]]], &#34;op&#34;: {&#34;params&#34;: [&#34;1/2&#34;], &#34;type&#34;: &#34;Rz&#34;}}, {&#34;args&#34;: [[&#34;q&#34;, [0]], [&#34;q&#34;, [1]]], &#34;op&#34;: {&#34;params&#34;: [&#34;0.5&#34;], &#34;type&#34;: &#34;ZZPhase&#34;}}, {&#34;args&#34;: [[&#34;q&#34;, [0]], [&#34;c&#34;, [0]]], &#34;op&#34;: {&#34;type&#34;: &#34;Measure&#34;}}, {&#34;args&#34;: [[&#34;q&#34;, [1]]], &#34;op&#34;: {&#34;params&#34;: [&#34;1.5&#34;], &#34;type&#34;: &#34;Rx&#34;}}, {&#34;args&#34;: [[&#34;q&#34;, [1]], [&#34;c&#34;, [1]]], &#34;op&#34;: {&#34;type&#34;: &#34;Measure&#34;}}], &#34;created_qubits&#34;: [], &#34;discarded_qubits&#34;: [], &#34;implicit_permutation&#34;: [[[&#34;q&#34;, [0]], [&#34;q&#34;, [0]]], [[&#34;q&#34;, [1]], [&#34;q&#34;, [1]]]], &#34;phase&#34;: &#34;0.75&#34;, &#34;qubits&#34;: [[&#34;q&#34;, [0]], [&#34;q&#34;, [1]]]}&lt;/div&gt;\n",
       "        &lt;/div&gt;\n",
       "        &lt;circuit-display-container\n",
       "                :circuit-element-str=&#34;&#39;#circuit-json-to-display&#39;&#34;\n",
       "                :init-render-options=&#34;initRenderOptions&#34;\n",
       "                view-format=&#34;None&#34;\n",
       "        &gt;&lt;/circuit-display-container&gt;\n",
       "    &lt;/div&gt;\n",
       "    &lt;script type=&#34;application/javascript&#34;&gt;\n",
       "      const circuitRendererUid = &#34;15e1031f-3889-4515-9b5f-6682126a1420&#34;;\n",
       "      const displayOptions = JSON.parse(&#39;{}&#39;);\n",
       "\n",
       "      // Script to initialise the circuit renderer app\n",
       "\n",
       "const { createApp } = Vue;\n",
       "const circuitDisplayContainer = window[&#34;pytket-circuit-renderer&#34;].default;\n",
       "// Init variables to be shared between circuit display instances\n",
       "if (typeof window.pytketCircuitDisplays === &#34;undefined&#34;) {\n",
       "    window.pytketCircuitDisplays = {};\n",
       "}\n",
       "// Create the root Vue component\n",
       "const app = createApp({\n",
       "    delimiters: [&#39;[[#&#39;, &#39;#]]&#39;],\n",
       "    components: { circuitDisplayContainer },\n",
       "    data () {\n",
       "      return {\n",
       "        initRenderOptions: displayOptions,\n",
       "      }\n",
       "    }\n",
       "})\n",
       "app.config.unwrapInjectedRef = true;\n",
       "app.mount(&#34;#circuit-display-vue-container-&#34;+circuitRendererUid);\n",
       "window.pytketCircuitDisplays[circuitRendererUid] = app;\n",
       "    &lt;/script&gt;\n",
       "\n",
       "\n",
       "\n",
       "&lt;/body&gt;\n",
       "&lt;/html&gt;\n",
       "\"\n",
       "            width=\"100%\" height=\"100%\"\n",
       "            style=\"border: none; outline: none; overflow: auto\"></iframe>\n",
       "</div>\n",
       "\n"
      ],
      "text/plain": [
       "<IPython.core.display.HTML object>"
      ]
     },
     "metadata": {},
     "output_type": "display_data"
    }
   ],
   "source": [
    "from pytket.circuit.display import render_circuit_jupyter\n",
    "\n",
    "render_circuit_jupyter(compiled_circuit)"
   ]
  },
  {
   "cell_type": "code",
   "execution_count": 8,
   "id": "14f491b6-fdb0-4a83-85fe-408a04b748bf",
   "metadata": {},
   "outputs": [],
   "source": [
    "h = backend_sc.process_circuit(compiled_circuit, n_shots=1000)\n"
   ]
  },
  {
   "cell_type": "code",
   "execution_count": 9,
   "id": "462532bf-a831-4747-b52d-313ae35edb6a",
   "metadata": {},
   "outputs": [
    {
     "name": "stdout",
     "output_type": "stream",
     "text": [
      "."
     ]
    }
   ],
   "source": [
    "r = backend_sc.get_result(h, timeout=120)"
   ]
  },
  {
   "cell_type": "markdown",
   "id": "1399280b-d9c6-437c-b2de-b18a985c2711",
   "metadata": {},
   "source": [
    "The result of the Syntax checker will always be 0 for all measured bits. If there are any issues with the circuit it will return an error."
   ]
  },
  {
   "cell_type": "code",
   "execution_count": 10,
   "id": "8d1b535e-cb6b-4245-9b97-4126f8d6a31f",
   "metadata": {},
   "outputs": [
    {
     "name": "stdout",
     "output_type": "stream",
     "text": [
      "Counter({(0, 0): 1000})\n"
     ]
    }
   ],
   "source": [
    "print(r.get_counts())"
   ]
  },
  {
   "cell_type": "markdown",
   "id": "16ab261d-9b3d-4dad-99bd-5fccdf22d0ea",
   "metadata": {},
   "source": [
    "Submitting the circuit to the emulator or device works in the same way, which will also give the results of the run:\n"
   ]
  },
  {
   "cell_type": "code",
   "execution_count": 11,
   "id": "70ea4e0f-924a-4b7d-b310-c8b948c22578",
   "metadata": {},
   "outputs": [
    {
     "name": "stdout",
     "output_type": "stream",
     "text": [
      "True\n"
     ]
    }
   ],
   "source": [
    "backend_e = AzureBackend(\"quantinuum.sim.h1-1e\")\n",
    "print(backend_e.is_available())"
   ]
  },
  {
   "cell_type": "code",
   "execution_count": 12,
   "id": "62566b2e-beac-42df-883e-48f5e86a628c",
   "metadata": {},
   "outputs": [
    {
     "name": "stdout",
     "output_type": "stream",
     "text": [
      "............Counter({(0, 0): 496, (1, 1): 495, (1, 0): 5, (0, 1): 4})\n"
     ]
    }
   ],
   "source": [
    "from pytket import Circuit\n",
    "\n",
    "circ = Circuit(2, 2)\n",
    "circ.H(0)\n",
    "circ.CX(0,1)\n",
    "circ.Measure(0, 0)\n",
    "circ.Measure(1, 1)\n",
    "compiled_circuit = backend_e.get_compiled_circuit(circ, 0)\n",
    "h = backend_e.process_circuit(compiled_circuit, n_shots=1000)\n",
    "r = backend_e.get_result(h, timeout=120)\n",
    "print(r.get_counts())\n",
    "\n"
   ]
  },
  {
   "cell_type": "code",
   "execution_count": null,
   "id": "a94bc65d-bd22-429b-a87c-64b495767009",
   "metadata": {},
   "outputs": [],
   "source": []
  },
  {
   "cell_type": "code",
   "execution_count": null,
   "id": "a9c24e60-ad23-4df1-90c6-f90d813283d9",
   "metadata": {},
   "outputs": [],
   "source": []
  }
 ],
 "metadata": {
  "kernelspec": {
   "display_name": "Python 3 (ipykernel)",
   "language": "python",
   "name": "python3"
  },
  "language_info": {
   "codemirror_mode": {
    "name": "ipython",
    "version": 3
   },
   "file_extension": ".py",
   "mimetype": "text/x-python",
   "name": "python",
   "nbconvert_exporter": "python",
   "pygments_lexer": "ipython3",
   "version": "3.11.11"
  }
 },
 "nbformat": 4,
 "nbformat_minor": 5
}
